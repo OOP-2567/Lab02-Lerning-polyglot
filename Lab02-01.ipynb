{
 "cells": [
  {
   "cell_type": "markdown",
   "metadata": {},
   "source": [
    "# Lab 2 เรียนรู้ Polyglot"
   ]
  },
  {
   "cell_type": "markdown",
   "metadata": {},
   "source": [
    "ใน Lab นี้ นักศึกษาจะได้เรียนรู้ polyglot ในแง่มุมต่างๆ ที่ละเอียดมากขึ้น รวมทั้งได้ทดลองใช้คำสั่งต่างๆ ของ dotnet เพื่อช่วยในการทำงาน\n",
    "โดยการเรียนีรู้จะทำผ่านการเขียน code บน polyglot notebook ซึ่งช่วยให้นักศึกษาสามารถลดเวลาในการทำงานกับเครื่องมือพัฒนาซอฟต์แวร์ลงได้เป็นอย่างมาก\n",
    "เนื่องจากเป็นการเรียนรู้ที่เน้นเฉพาะตัวภาษาซึ่งมี learning curve ที่นักศึกษาสามารถรับมือได้ ในเวลาที่ค่อนข้างจำกัด\n",
    "\n",
    "เมื่อนักศึกษาเรียนรู้ภาษาโปรแกรมแล้ว ก็สามารถนำประสบการณ์ไปใช้พัฒนาโปรแกรมด้วยเครื่องมือเหล่านั้นได้อย่างมีประสิทธิภาพ\n",
    "\n",
    "ในการทดลองนี้ นักศึกษาจะได้เรียนรู้เกี่ยวกับหัวข้อต่างๆ ดังต่อไปนี้\n",
    "\n",
    "[2.1 การใช้งาน powershell เพื่อสร้างโปรเจคชนิด console](Lab02-02.ipynb)\n",
    "\n",
    "[2.2 การใช้ keyboard shortcut](Lab02-03.ipynb) \n",
    "\n",
    "[2.3 การใช้ Magic command ](Lab02-04.ipynb) \n"
   ]
  }
 ],
 "metadata": {
  "kernelspec": {
   "display_name": ".NET (PowerShell)",
   "language": "PowerShell",
   "name": ".net-pwsh"
  },
  "polyglot_notebook": {
   "kernelInfo": {
    "defaultKernelName": "pwsh",
    "items": [
     {
      "aliases": [],
      "languageName": "pwsh",
      "name": "pwsh"
     }
    ]
   }
  }
 },
 "nbformat": 4,
 "nbformat_minor": 2
}
