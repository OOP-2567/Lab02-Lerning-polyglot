{
 "cells": [
  {
   "cell_type": "code",
   "execution_count": 74,
   "metadata": {
    "dotnet_interactive": {
     "language": "mermaid"
    },
    "polyglot_notebook": {
     "kernelName": "mermaid"
    },
    "vscode": {
     "languageId": "polyglot-notebook"
    }
   },
   "outputs": [
    {
     "data": {
      "text/html": [
       "<div class=\"mermaidMarkdownContainer\" style=\"background-color:white\">\r\n",
       "<link rel=\"stylesheet\" href=\"https://cdnjs.cloudflare.com/ajax/libs/font-awesome/6.2.0/css/all.min.css\">\r\n",
       "<div id=\"a67a10dbf464482791da28ab2bd96667\"></div>\r\n",
       "<script type=\"module\">\r\n",
       "\r\n",
       "            import mermaid from 'https://cdn.jsdelivr.net/npm/mermaid@10.6.1/dist/mermaid.esm.min.mjs';\r\n",
       "            let renderTarget = document.getElementById('a67a10dbf464482791da28ab2bd96667');\r\n",
       "            try {\r\n",
       "                const {svg, bindFunctions} = await mermaid.mermaidAPI.render( \r\n",
       "                    'mermaid_a67a10dbf464482791da28ab2bd96667', \r\n",
       "                    `\r\n",
       "graph TD\r\n",
       "    G[start] --> A\r\n",
       "    A{Condition Check} -->|true| B[Statement]\r\n",
       "    A -->|false| O\r\n",
       "    O(( )) --> C((End))\r\n",
       "    B --> O\r\n",
       "`);\r\n",
       "                renderTarget.innerHTML = svg;\r\n",
       "                bindFunctions?.(renderTarget);\r\n",
       "            }\r\n",
       "            catch (error) {\r\n",
       "                console.log(error);\r\n",
       "            }\r\n",
       "</script>\r\n",
       "</div>\r\n"
      ]
     },
     "metadata": {},
     "output_type": "display_data"
    }
   ],
   "source": [
    "\n",
    "graph TD\n",
    "    G[start] --> A\n",
    "    A{Condition Check} -->|true| B[Statement]\n",
    "    A -->|false| O\n",
    "    O(( )) --> C((End))\n",
    "    B --> O\n"
   ]
  },
  {
   "cell_type": "code",
   "execution_count": 72,
   "metadata": {
    "dotnet_interactive": {
     "language": "mermaid"
    },
    "polyglot_notebook": {
     "kernelName": "mermaid"
    },
    "vscode": {
     "languageId": "polyglot-notebook"
    }
   },
   "outputs": [
    {
     "data": {
      "text/html": [
       "<div class=\"mermaidMarkdownContainer\" style=\"background-color:white\">\r\n",
       "<link rel=\"stylesheet\" href=\"https://cdnjs.cloudflare.com/ajax/libs/font-awesome/6.2.0/css/all.min.css\">\r\n",
       "<div id=\"aecdb7b6d4d94014b349eb3375f9a84d\"></div>\r\n",
       "<script type=\"module\">\r\n",
       "\r\n",
       "            import mermaid from 'https://cdn.jsdelivr.net/npm/mermaid@10.6.1/dist/mermaid.esm.min.mjs';\r\n",
       "            let renderTarget = document.getElementById('aecdb7b6d4d94014b349eb3375f9a84d');\r\n",
       "            try {\r\n",
       "                const {svg, bindFunctions} = await mermaid.mermaidAPI.render( \r\n",
       "                    'mermaid_aecdb7b6d4d94014b349eb3375f9a84d', \r\n",
       "                    `\r\n",
       "graph TD\r\n",
       "    G[start] --> A\r\n",
       "    A{Condition Check} -->|true| B[Statements]\r\n",
       "    A -->|false| C[Statements]\r\n",
       "    O(( )) --> D((End))\r\n",
       "    C --> O\r\n",
       "    B --> O\r\n",
       "`);\r\n",
       "                renderTarget.innerHTML = svg;\r\n",
       "                bindFunctions?.(renderTarget);\r\n",
       "            }\r\n",
       "            catch (error) {\r\n",
       "                console.log(error);\r\n",
       "            }\r\n",
       "</script>\r\n",
       "</div>\r\n"
      ]
     },
     "metadata": {},
     "output_type": "display_data"
    }
   ],
   "source": [
    "\n",
    "graph TD\n",
    "    G[start] --> A\n",
    "    A{Condition Check} -->|true| B[Statements]\n",
    "    A -->|false| C[Statements]\n",
    "    O(( )) --> D((End))\n",
    "    C --> O\n",
    "    B --> O\n"
   ]
  },
  {
   "cell_type": "code",
   "execution_count": 71,
   "metadata": {
    "dotnet_interactive": {
     "language": "mermaid"
    },
    "polyglot_notebook": {
     "kernelName": "mermaid"
    },
    "vscode": {
     "languageId": "polyglot-notebook"
    }
   },
   "outputs": [
    {
     "data": {
      "text/html": [
       "<div class=\"mermaidMarkdownContainer\" style=\"background-color:white\">\r\n",
       "<link rel=\"stylesheet\" href=\"https://cdnjs.cloudflare.com/ajax/libs/font-awesome/6.2.0/css/all.min.css\">\r\n",
       "<div id=\"bf00bf4b3e924af8af56f78ede830e5d\"></div>\r\n",
       "<script type=\"module\">\r\n",
       "\r\n",
       "            import mermaid from 'https://cdn.jsdelivr.net/npm/mermaid@10.6.1/dist/mermaid.esm.min.mjs';\r\n",
       "            let renderTarget = document.getElementById('bf00bf4b3e924af8af56f78ede830e5d');\r\n",
       "            try {\r\n",
       "                const {svg, bindFunctions} = await mermaid.mermaidAPI.render( \r\n",
       "                    'mermaid_bf00bf4b3e924af8af56f78ede830e5d', \r\n",
       "                    `graph TB\r\n",
       "    A[start] --> B{Condition Check}\r\n",
       "    B -->|Ture| C[Statements]\r\n",
       "    C --> J(( ))\r\n",
       "    B -->|false| D{Condition Check}\r\n",
       "    D -->|Ture| E[Statements]\r\n",
       "    E --> K(( ))\r\n",
       "    D -->|false| F{Condition Check}\r\n",
       "    F -->|Ture| G[Statements]\r\n",
       "    G --> L(( ))\r\n",
       "    F -->|false| H[Statements]\r\n",
       "    J --> I((End))\r\n",
       "    K --> J\r\n",
       "    L --> K\r\n",
       "    H --> L\r\n",
       "`);\r\n",
       "                renderTarget.innerHTML = svg;\r\n",
       "                bindFunctions?.(renderTarget);\r\n",
       "            }\r\n",
       "            catch (error) {\r\n",
       "                console.log(error);\r\n",
       "            }\r\n",
       "</script>\r\n",
       "</div>\r\n"
      ]
     },
     "metadata": {},
     "output_type": "display_data"
    }
   ],
   "source": [
    "graph TB\n",
    "    A[start] --> B{Condition Check}\n",
    "    B -->|Ture| C[Statements]\n",
    "    C --> J(( ))\n",
    "    B -->|false| D{Condition Check}\n",
    "    D -->|Ture| E[Statements]\n",
    "    E --> K(( ))\n",
    "    D -->|false| F{Condition Check}\n",
    "    F -->|Ture| G[Statements]\n",
    "    G --> L(( ))\n",
    "    F -->|false| H[Statements]\n",
    "    J --> I((End))\n",
    "    K --> J\n",
    "    L --> K\n",
    "    H --> L\n"
   ]
  },
  {
   "cell_type": "code",
   "execution_count": 59,
   "metadata": {
    "dotnet_interactive": {
     "language": "mermaid"
    },
    "polyglot_notebook": {
     "kernelName": "mermaid"
    },
    "vscode": {
     "languageId": "polyglot-notebook"
    }
   },
   "outputs": [
    {
     "data": {
      "text/html": [
       "<div class=\"mermaidMarkdownContainer\" style=\"background-color:white\">\r\n",
       "<link rel=\"stylesheet\" href=\"https://cdnjs.cloudflare.com/ajax/libs/font-awesome/6.2.0/css/all.min.css\">\r\n",
       "<div id=\"c6c83ae0121d49a59aa26e88c6688ae7\"></div>\r\n",
       "<script type=\"module\">\r\n",
       "\r\n",
       "            import mermaid from 'https://cdn.jsdelivr.net/npm/mermaid@10.6.1/dist/mermaid.esm.min.mjs';\r\n",
       "            let renderTarget = document.getElementById('c6c83ae0121d49a59aa26e88c6688ae7');\r\n",
       "            try {\r\n",
       "                const {svg, bindFunctions} = await mermaid.mermaidAPI.render( \r\n",
       "                    'mermaid_c6c83ae0121d49a59aa26e88c6688ae7', \r\n",
       "                    `graph TD\r\n",
       "    A[start] --> B[Statements]\r\n",
       "    B --> C{Condition Check}\r\n",
       "    C --> |true| A\r\n",
       "    C --> |false| D((End))\r\n",
       "`);\r\n",
       "                renderTarget.innerHTML = svg;\r\n",
       "                bindFunctions?.(renderTarget);\r\n",
       "            }\r\n",
       "            catch (error) {\r\n",
       "                console.log(error);\r\n",
       "            }\r\n",
       "</script>\r\n",
       "</div>\r\n"
      ]
     },
     "metadata": {},
     "output_type": "display_data"
    }
   ],
   "source": [
    "graph TD\n",
    "    A[start] --> B[Statements]\n",
    "    B --> C{Condition Check}\n",
    "    C --> |true| A\n",
    "    C --> |false| D((End))\n"
   ]
  },
  {
   "cell_type": "code",
   "execution_count": 64,
   "metadata": {
    "dotnet_interactive": {
     "language": "mermaid"
    },
    "polyglot_notebook": {
     "kernelName": "mermaid"
    },
    "vscode": {
     "languageId": "polyglot-notebook"
    }
   },
   "outputs": [
    {
     "data": {
      "text/html": [
       "<div class=\"mermaidMarkdownContainer\" style=\"background-color:white\">\r\n",
       "<link rel=\"stylesheet\" href=\"https://cdnjs.cloudflare.com/ajax/libs/font-awesome/6.2.0/css/all.min.css\">\r\n",
       "<div id=\"633c17576ec24091b2afc301bb91ddca\"></div>\r\n",
       "<script type=\"module\">\r\n",
       "\r\n",
       "            import mermaid from 'https://cdn.jsdelivr.net/npm/mermaid@10.6.1/dist/mermaid.esm.min.mjs';\r\n",
       "            let renderTarget = document.getElementById('633c17576ec24091b2afc301bb91ddca');\r\n",
       "            try {\r\n",
       "                const {svg, bindFunctions} = await mermaid.mermaidAPI.render( \r\n",
       "                    'mermaid_633c17576ec24091b2afc301bb91ddca', \r\n",
       "                    `graph TD\r\n",
       "    A[start] --> B[initialization]\r\n",
       "    B --> J(( ))\r\n",
       "    J --> C{Condition Check}\r\n",
       "    C --> |true| D[Statements]\r\n",
       "    D --> F[Update]\r\n",
       "    F --> J\r\n",
       "    C --> |false| E((End))`);\r\n",
       "                renderTarget.innerHTML = svg;\r\n",
       "                bindFunctions?.(renderTarget);\r\n",
       "            }\r\n",
       "            catch (error) {\r\n",
       "                console.log(error);\r\n",
       "            }\r\n",
       "</script>\r\n",
       "</div>\r\n"
      ]
     },
     "metadata": {},
     "output_type": "display_data"
    }
   ],
   "source": [
    "graph TD\n",
    "    A[start] --> B[initialization]\n",
    "    B --> J(( ))\n",
    "    J --> C{Condition Check}\n",
    "    C --> |true| D[Statements]\n",
    "    D --> F[Update]\n",
    "    F --> J\n",
    "    C --> |false| E((End))"
   ]
  }
 ],
 "metadata": {
  "kernelspec": {
   "display_name": "Python 3",
   "language": "python",
   "name": "python3"
  },
  "language_info": {
   "name": "python",
   "version": "3.12.5"
  },
  "polyglot_notebook": {
   "kernelInfo": {
    "defaultKernelName": "mermaid",
    "items": [
     {
      "aliases": [],
      "languageName": "mermaid",
      "name": "mermaid"
     }
    ]
   }
  }
 },
 "nbformat": 4,
 "nbformat_minor": 2
}
