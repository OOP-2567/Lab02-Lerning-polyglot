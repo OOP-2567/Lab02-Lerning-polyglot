{
 "cells": [
  {
   "cell_type": "markdown",
   "metadata": {
    "dotnet_interactive": {
     "language": "csharp"
    },
    "polyglot_notebook": {
     "kernelName": "csharp"
    }
   },
   "source": [
    "# Lab 2.4 Magic command"
   ]
  },
  {
   "cell_type": "markdown",
   "metadata": {},
   "source": [
    "เนื้อหา https://github.com/dotnet/interactive/blob/main/docs/magic-commands.md"
   ]
  },
  {
   "cell_type": "markdown",
   "metadata": {},
   "source": [
    "Magic command เป็นคำสั่งพิเศษที่สามารถกำหนดเงื่อนไขต่างๆ ใน cell  \n",
    "แนวคิดของคำสั่ง Magic command ได้ยืมมาจาก  Jupyter แต่จะมีการเปลี่ยนแปลงเล็กน้อยในไวยากรณ์เพื่อรองรับภาษา .NET \n",
    "\n",
    "> ลักษณะเฉพาะของ Magic command\n",
    "\n",
    "1. จะต้องเริ่มต้นที่จุดเริ่มต้นของบรรทัดเสมอและต้องเขียนให้จบในบรรทัดเดียว \n",
    "2. ต้องขึ้นต้นด้วย #! หรือ #  (คำสั่ง # จะเกิดขึ้นเฉพาะเมื่อมีการรวมพฤติกรรมเข้ากับคำสั่งคอมไพเลอร์เฉพาะภาษา เช่น #r )\n",
    "3. Magic command ของ polyglot ต่างจากของ Jupyter ตรงที่ไม่มีการแยกความแตกต่างระหว่าง \"cell magic\" กับ \"line magic\""
   ]
  },
  {
   "cell_type": "markdown",
   "metadata": {},
   "source": [
    "> ตัวอย่าง คำสั่ง #!time \n",
    "\n",
    "\n",
    "คำสั่ง #!time  ถูกใช้เพื่อวัดเวลาในการทำงานของคำสั่งหรือโปรแกรม\n",
    "\n",
    "ให้เขียน Code ต่อไปนี้ในภาษา Csharp แล้วรัน เพื่อวัดเวลาในการประมวลผลของโปรแกรม"
   ]
  },
  {
   "cell_type": "markdown",
   "metadata": {},
   "source": [
    "``` csharp\n",
    "#!csharp\n",
    "#!time\n",
    "await Task.Delay(1000);\n",
    "```"
   ]
  },
  {
   "cell_type": "markdown",
   "metadata": {},
   "source": [
    "## Global magic commands\n",
    "\n",
    "| Command                               | Behavior                               \n",
    "|---------------------------------------|----------------------------------------------------------------------\n",
    "| `#!about`                             | แสดงข้อมูลเกี่ยวกับเวอร์ชันของเคอร์เนล\n",
    "| [`#!import`](import-magic-command.md) | รันโค้ดจากสมุดบันทึกอื่นหรือไฟล์โค้ดต้นฉบับ\n",
    "| `#!lsmagic`                           | แสดงรายการคำสั่ง magic command ที่มีอยู่ (รวมถึงคำสั่งที่อาจได้รับการติดตั้งผ่านส่วนขยาย)\n",
    "| `#!markdown`                          | ระบุว่าโค้ดต่อไปนี้เป็น Markdown ซึ่งสามารถแสดงผลเป็น HTML ในเบราว์เซอร์ได้โดยตรง\n",
    "| [`#!share`](variable-sharing.md)      | แชร์ตัวแปรจากซับเคอร์เนลที่ระบุอื่น (รวมถึงซับเคอร์เนลที่จัดเก็บโดยใช้ #!value)\n",
    "| [`#!set`](variable-sharing.md)        | ตั้งค่าในเคอร์เนลปัจจุบัน (รวมถึงการสนับสนุนสำหรับอินพุตและตัวอักษร)\n",
    "| `#!time`                              | วัดเวลาการดำเนินการของโค้ด\n",
    "| `#!connect`                           | เปิดใช้งานการเชื่อมต่อเคอร์เนลเพิ่มเติม"
   ]
  },
  {
   "cell_type": "markdown",
   "metadata": {},
   "source": [
    "## Kernel chooser magic commands\n",
    "| Command                               | Behavior                               \n",
    "|---------------------------------------|----------------------------------------------------------------------\n",
    "| `#!csharp` (also: `#!c#`, `#!C#`)     | ระบุว่าโค้ดต่อไปนี้เป็น C# (โดยเฉพาะอย่างยิ่งภาษาสคริปต์ C#)\n",
    "| `#!fsharp` (also: `#!f#`, `#!F#`)     | ระบุว่าโค้ดต่อไปนี้เป็น  F#.\n",
    "| `#!html`                              | ระบุว่าโค้ดต่อไปนี้เป็น HTML ที่สามารถแสดงผลในเบราว์เซอร์ได้โดยตรง\n",
    "| `#!javascript` (also: `#!js`)         | ระบุว่าโค้ดต่อไปนี้เป็น JavaScript ที่ต้องดำเนินการในเบราว์เซอร์\n",
    "| `#!kql`                               | ให้ข้อมูลเกี่ยวกับวิธีการเพิ่มเคอร์เนล KQL (Kusto Query Language) เฉพาะการเชื่อมต่อลงในเซสชันแบบโต้ตอบ\n",
    "| `#!mermaid`                           | ระบุว่าโค้ดต่อไปนี้คือ Mermaid ผลลัพธ์จะแสดงออกมาเป็นภาพ\n",
    "| `#!pwsh` (also: `#!powershell`)       | ระบุว่าโค้ดต่อไปนี้คือ PowerShell\n",
    "| `#!sql`                               | ให้ข้อมูลเกี่ยวกับวิธีการเพิ่มเคอร์เนล SQL เฉพาะการเชื่อมต่อลงในเซสชันแบบโต้ตอบ\n",
    "| `#!value`                             | เก็บค่า (จากข้อความที่ป้อน จากไฟล์ หรือ จาก URL) ซึ่งสามารถเข้าถึงได้โดยใช้ #!share"
   ]
  },
  {
   "cell_type": "markdown",
   "metadata": {},
   "source": [
    "## ตัวอย่าง การเรียกใช้ mermaid เพื่อวาดไดอะแกรม"
   ]
  },
  {
   "cell_type": "markdown",
   "metadata": {},
   "source": [
    "อ้างอิง https://mermaid.js.org/intro/"
   ]
  },
  {
   "cell_type": "markdown",
   "metadata": {},
   "source": [
    "> สร้าง code cell ใหม่ แล้วพิมพ์ข้อความต่อไปนี้ลงไปใน cell แล้วกด Ctrl + Enter เพื่อดูผลลัพธ์"
   ]
  },
  {
   "cell_type": "markdown",
   "metadata": {},
   "source": [
    "```mermaid\n",
    "#!mermaid\n",
    "pie title NETFLIX\n",
    "         \"Time spent looking for movie\" : 90\n",
    "         \"Time spent watching it\" : 10\n",
    "```"
   ]
  },
  {
   "cell_type": "markdown",
   "metadata": {},
   "source": [
    "> ตัวอย่าง การวาด Flow chart ใน mermaid\n",
    "\n",
    "อ้างอิง https://mermaid.js.org/syntax/flowchart.html"
   ]
  },
  {
   "cell_type": "markdown",
   "metadata": {},
   "source": [
    "```mermaid\n",
    "#!mermaid\n",
    "flowchart TD\n",
    "    A[Start] --> B{Is it?}\n",
    "    B -->|Yes| C[OK]\n",
    "    C --> D[Rethink]\n",
    "    D --> B\n",
    "    B ---->|No| E[End]\n",
    "```"
   ]
  },
  {
   "cell_type": "markdown",
   "metadata": {},
   "source": [
    "## การบ้าน\n",
    "\n",
    "ให้สร้าง notebook แล้ววาดไดอะแกรมต่อไปนี้โดยใช้ mermaid\n",
    "\n",
    "1. flow chart สำหรับคำสั่ง if\n",
    "\n",
    "![if](./Images/if.svg)\n",
    "\n",
    "2. flow chart สำหรับคำสั่ง if-else\n",
    "\n",
    "![if-else](./Images/if-else.svg)\n",
    "\n",
    "3. flow chart สำหรับคำสั่ง if-else-if\n",
    "\n",
    "\n",
    "![if-else-if](./Images/if-else-if.svg)\n",
    "\n",
    "4. flow chart สำหรับคำสั่ง do-while\n",
    "\n",
    "![do-while](./Images/do-while.svg)\n",
    "\n",
    "\n",
    "5. flow chart สำหรับคำสั่ง for\n",
    "\n",
    "![for](./Images/for.svg)\n"
   ]
  },
  {
   "cell_type": "code",
   "execution_count": null,
   "metadata": {},
   "outputs": [
    {
     "data": {
      "text/html": [
       "<div class=\"mermaidMarkdownContainer\" style=\"background-color:white\">\r\n",
       "<link rel=\"stylesheet\" href=\"https://cdnjs.cloudflare.com/ajax/libs/font-awesome/6.2.0/css/all.min.css\">\r\n",
       "<div id=\"521a8e46ecc34d709bb1fa06b2730b10\"></div>\r\n",
       "<script type=\"module\">\r\n",
       "\r\n",
       "            import mermaid from 'https://cdn.jsdelivr.net/npm/mermaid@10.6.1/dist/mermaid.esm.min.mjs';\r\n",
       "            let renderTarget = document.getElementById('521a8e46ecc34d709bb1fa06b2730b10');\r\n",
       "            try {\r\n",
       "                const {svg, bindFunctions} = await mermaid.mermaidAPI.render( \r\n",
       "                    'mermaid_521a8e46ecc34d709bb1fa06b2730b10', \r\n",
       "                    `flowchart TD\r\n",
       "    A[Start] --> B{Conditional check}\r\n",
       "    B -->|True| C[Statements]\r\n",
       "    C --> D[End]\r\n",
       "    B -->|False| D`);\r\n",
       "                renderTarget.innerHTML = svg;\r\n",
       "                bindFunctions?.(renderTarget);\r\n",
       "            }\r\n",
       "            catch (error) {\r\n",
       "                console.log(error);\r\n",
       "            }\r\n",
       "</script>\r\n",
       "</div>\r\n"
      ]
     },
     "metadata": {},
     "output_type": "display_data"
    }
   ],
   "source": [
    "#!mermaid\n",
    "flowchart TD\n",
    "    A[Start] --> B{Conditional check}\n",
    "    B -->|True| C[Statements]\n",
    "    C --> D[End]\n",
    "    B -->|False| D"
   ]
  },
  {
   "cell_type": "code",
   "execution_count": null,
   "metadata": {},
   "outputs": [
    {
     "data": {
      "text/html": [
       "<div class=\"mermaidMarkdownContainer\" style=\"background-color:white\">\r\n",
       "<link rel=\"stylesheet\" href=\"https://cdnjs.cloudflare.com/ajax/libs/font-awesome/6.2.0/css/all.min.css\">\r\n",
       "<div id=\"b3196de1f70c4a698b4f71a96040468f\"></div>\r\n",
       "<script type=\"module\">\r\n",
       "\r\n",
       "            import mermaid from 'https://cdn.jsdelivr.net/npm/mermaid@10.6.1/dist/mermaid.esm.min.mjs';\r\n",
       "            let renderTarget = document.getElementById('b3196de1f70c4a698b4f71a96040468f');\r\n",
       "            try {\r\n",
       "                const {svg, bindFunctions} = await mermaid.mermaidAPI.render( \r\n",
       "                    'mermaid_b3196de1f70c4a698b4f71a96040468f', \r\n",
       "                    `flowchart TD\r\n",
       "    A[Start] --> B{Conditional check}\r\n",
       "    B -->|True| C[Statements]\r\n",
       "    B -->|False| D[Statements]\r\n",
       "    C --> E[End]\r\n",
       "    D --> E`);\r\n",
       "                renderTarget.innerHTML = svg;\r\n",
       "                bindFunctions?.(renderTarget);\r\n",
       "            }\r\n",
       "            catch (error) {\r\n",
       "                console.log(error);\r\n",
       "            }\r\n",
       "</script>\r\n",
       "</div>\r\n"
      ]
     },
     "metadata": {},
     "output_type": "display_data"
    }
   ],
   "source": [
    "#!mermaid\n",
    "flowchart TD\n",
    "    A[Start] --> B{Conditional check}\n",
    "    B -->|True| C[Statements]\n",
    "    B -->|False| D[Statements]\n",
    "    C --> E[End]\n",
    "    D --> E"
   ]
  },
  {
   "cell_type": "code",
   "execution_count": null,
   "metadata": {},
   "outputs": [
    {
     "data": {
      "text/html": [
       "<div class=\"mermaidMarkdownContainer\" style=\"background-color:white\">\r\n",
       "<link rel=\"stylesheet\" href=\"https://cdnjs.cloudflare.com/ajax/libs/font-awesome/6.2.0/css/all.min.css\">\r\n",
       "<div id=\"ffcc75dc02074e048e942c414b33237a\"></div>\r\n",
       "<script type=\"module\">\r\n",
       "\r\n",
       "            import mermaid from 'https://cdn.jsdelivr.net/npm/mermaid@10.6.1/dist/mermaid.esm.min.mjs';\r\n",
       "            let renderTarget = document.getElementById('ffcc75dc02074e048e942c414b33237a');\r\n",
       "            try {\r\n",
       "                const {svg, bindFunctions} = await mermaid.mermaidAPI.render( \r\n",
       "                    'mermaid_ffcc75dc02074e048e942c414b33237a', \r\n",
       "                    `flowchart TD\r\n",
       "    A[Start] --> B{Conditional check}\r\n",
       "    B -->|True| C[Statements]\r\n",
       "    B -->|False| D{Conditional check}\r\n",
       "    D -->|True| E[Statements]\r\n",
       "    D -->|False| F[Statements]\r\n",
       "    C --> G[End]\r\n",
       "    E --> G\r\n",
       "    F --> G`);\r\n",
       "                renderTarget.innerHTML = svg;\r\n",
       "                bindFunctions?.(renderTarget);\r\n",
       "            }\r\n",
       "            catch (error) {\r\n",
       "                console.log(error);\r\n",
       "            }\r\n",
       "</script>\r\n",
       "</div>\r\n"
      ]
     },
     "metadata": {},
     "output_type": "display_data"
    }
   ],
   "source": [
    "#!mermaid\n",
    "flowchart TD\n",
    "    A[Start] --> B{Conditional check}\n",
    "    B -->|True| C[Statements]\n",
    "    B -->|False| D{Conditional check}\n",
    "    D -->|True| E[Statements]\n",
    "    D -->|False| F[Statements]\n",
    "    C --> G[End]\n",
    "    E --> G\n",
    "    F --> G"
   ]
  },
  {
   "cell_type": "code",
   "execution_count": null,
   "metadata": {},
   "outputs": [
    {
     "data": {
      "text/html": [
       "<div class=\"mermaidMarkdownContainer\" style=\"background-color:white\">\r\n",
       "<link rel=\"stylesheet\" href=\"https://cdnjs.cloudflare.com/ajax/libs/font-awesome/6.2.0/css/all.min.css\">\r\n",
       "<div id=\"b80265ed4f3b45959d6722566569e27a\"></div>\r\n",
       "<script type=\"module\">\r\n",
       "\r\n",
       "            import mermaid from 'https://cdn.jsdelivr.net/npm/mermaid@10.6.1/dist/mermaid.esm.min.mjs';\r\n",
       "            let renderTarget = document.getElementById('b80265ed4f3b45959d6722566569e27a');\r\n",
       "            try {\r\n",
       "                const {svg, bindFunctions} = await mermaid.mermaidAPI.render( \r\n",
       "                    'mermaid_b80265ed4f3b45959d6722566569e27a', \r\n",
       "                    `flowchart TD\r\n",
       "    A[Start] --> B[Statements]\r\n",
       "    B --> C{Conditional check}\r\n",
       "    C -->|True| B\r\n",
       "    C -->|False| D[End]`);\r\n",
       "                renderTarget.innerHTML = svg;\r\n",
       "                bindFunctions?.(renderTarget);\r\n",
       "            }\r\n",
       "            catch (error) {\r\n",
       "                console.log(error);\r\n",
       "            }\r\n",
       "</script>\r\n",
       "</div>\r\n"
      ]
     },
     "metadata": {},
     "output_type": "display_data"
    }
   ],
   "source": [
    "#!mermaid\n",
    "flowchart TD\n",
    "    A[Start] --> B[Statements]\n",
    "    B --> C{Conditional check}\n",
    "    C -->|True| B\n",
    "    C -->|False| D[End]"
   ]
  },
  {
   "cell_type": "code",
   "execution_count": null,
   "metadata": {},
   "outputs": [
    {
     "data": {
      "text/html": [
       "<div class=\"mermaidMarkdownContainer\" style=\"background-color:white\">\r\n",
       "<link rel=\"stylesheet\" href=\"https://cdnjs.cloudflare.com/ajax/libs/font-awesome/6.2.0/css/all.min.css\">\r\n",
       "<div id=\"e979b08ab2cc4e82b47a81b09ad1ffff\"></div>\r\n",
       "<script type=\"module\">\r\n",
       "\r\n",
       "            import mermaid from 'https://cdn.jsdelivr.net/npm/mermaid@10.6.1/dist/mermaid.esm.min.mjs';\r\n",
       "            let renderTarget = document.getElementById('e979b08ab2cc4e82b47a81b09ad1ffff');\r\n",
       "            try {\r\n",
       "                const {svg, bindFunctions} = await mermaid.mermaidAPI.render( \r\n",
       "                    'mermaid_e979b08ab2cc4e82b47a81b09ad1ffff', \r\n",
       "                    `flowchart TD\r\n",
       "    A[Start] --> B[Initialization]\r\n",
       "    B --> C{Conditional check}\r\n",
       "    C -->|True| D[Statements]\r\n",
       "    D --> E[Update]\r\n",
       "    E --> C\r\n",
       "    C -->|False| F[End]`);\r\n",
       "                renderTarget.innerHTML = svg;\r\n",
       "                bindFunctions?.(renderTarget);\r\n",
       "            }\r\n",
       "            catch (error) {\r\n",
       "                console.log(error);\r\n",
       "            }\r\n",
       "</script>\r\n",
       "</div>\r\n"
      ]
     },
     "metadata": {},
     "output_type": "display_data"
    }
   ],
   "source": [
    "#!mermaid\n",
    "flowchart TD\n",
    "    A[Start] --> B[Initialization]\n",
    "    B --> C{Conditional check}\n",
    "    C -->|True| D[Statements]\n",
    "    D --> E[Update]\n",
    "    E --> C\n",
    "    C -->|False| F[End]"
   ]
  }
 ],
 "metadata": {
  "kernelspec": {
   "display_name": ".NET (C#)",
   "language": "C#",
   "name": ".net-csharp"
  },
  "polyglot_notebook": {
   "kernelInfo": {
    "defaultKernelName": "csharp",
    "items": [
     {
      "aliases": [],
      "languageName": "csharp",
      "name": "csharp"
     }
    ]
   }
  }
 },
 "nbformat": 4,
 "nbformat_minor": 2
}
