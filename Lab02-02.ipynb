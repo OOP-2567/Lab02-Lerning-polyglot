{
 "cells": [
  {
   "cell_type": "markdown",
   "metadata": {},
   "source": [
    "# Lab 2.1 การสร้าง dotnet console project"
   ]
  },
  {
   "cell_type": "markdown",
   "metadata": {},
   "source": [
    "ข้อดีของการใช้ polyglot คือเราสามารถใช้คำสั่ง powershell (ของวินโดวส์) เพื่อสร้าง project ได้จาก notebook \n",
    "\n",
    "หมายเหตุ สำหรับนักศึกษาที่ใช้ระบบปฏิบัติการที่ไม่ใช้ notebook ให้เปิด terminal แล้วพิมพ์คำสั่งตามใบงานนี้ จะได้ผลลัพธ์เช่นเดียวกัน"
   ]
  },
  {
   "cell_type": "markdown",
   "metadata": {},
   "source": [
    "## การสร้างและรัน dotnet console project ด้วย powershell\n",
    "###  พิมพ์ code ต่อไปนี้ ลงใน cell ของ powershell ครั้งละบรรทัด เพื่อสร้างและรันโปรเจค\n",
    "\n",
    "1. คำสั่ง `dotnet new console -n HelloWorld -o HelloWorld` \n",
    "   \n",
    "คำสั่ง/options |ความหมาย\n",
    "--|--\n",
    "   `dotnet new console`  | สร้าง  project  ใหม่เป็น console project\n",
    "   `-n HelloWorld`  | ระบุชื่อ project\n",
    "   `-o HelloWorld`  | ระบุ folder ของ project \n",
    "\n",
    "หมายเหตุ การที่ไม่สามารถสร้าง project นั้น อาจจะเกิดจากการที่มี folder  ของ project นั้นอยู่ที่นั่นแล้ว ถ้าเป็นเช่นนั้นให้ลบออกหรือย้ายไปไว้ในที่อื่นก่อน\n",
    " \n"
   ]
  },
  {
   "cell_type": "code",
   "execution_count": null,
   "metadata": {
    "dotnet_interactive": {
     "language": "pwsh"
    },
    "polyglot_notebook": {
     "kernelName": "pwsh"
    }
   },
   "outputs": [],
   "source": [
    "dotnet new console -n HelloWorld -o HelloWorld\n",
    "\n",
    "\n"
   ]
  },
  {
   "cell_type": "markdown",
   "metadata": {},
   "source": [
    "2. ตรวจสอบให้แน่ใจว่า dotnet ได้สร้าง folder ของโปรเจคไว้ในตำแหน่งที่กำหนดแล้ว\n",
    "   \n",
    "   โดยการเรียก  terminal แล้วพิมพ์คำสั่ง `dir` หรือดูใน file explorer   "
   ]
  },
  {
   "cell_type": "code",
   "execution_count": null,
   "metadata": {
    "dotnet_interactive": {
     "language": "pwsh"
    },
    "polyglot_notebook": {
     "kernelName": "pwsh"
    }
   },
   "outputs": [],
   "source": [
    "dir"
   ]
  },
  {
   "cell_type": "markdown",
   "metadata": {},
   "source": [
    "3. เปลี่ยนเส้นทางเข้าไปยัง folder ที่ถูกสร้างขึ้น  `cd HelloWorld`"
   ]
  },
  {
   "cell_type": "code",
   "execution_count": null,
   "metadata": {
    "dotnet_interactive": {
     "language": "pwsh"
    },
    "polyglot_notebook": {
     "kernelName": "pwsh"
    }
   },
   "outputs": [],
   "source": [
    "cd HelloWorld"
   ]
  },
  {
   "cell_type": "markdown",
   "metadata": {},
   "source": [
    "4. พิมพ์ `dotnet build`"
   ]
  },
  {
   "cell_type": "code",
   "execution_count": null,
   "metadata": {
    "dotnet_interactive": {
     "language": "pwsh"
    },
    "polyglot_notebook": {
     "kernelName": "pwsh"
    }
   },
   "outputs": [],
   "source": [
    "dotnet build"
   ]
  },
  {
   "cell_type": "markdown",
   "metadata": {},
   "source": [
    "5. พิมพ์ `dotnet run` เพื่อดูผลการทำงานของโปรแกรม"
   ]
  },
  {
   "cell_type": "code",
   "execution_count": null,
   "metadata": {
    "dotnet_interactive": {
     "language": "pwsh"
    },
    "polyglot_notebook": {
     "kernelName": "pwsh"
    }
   },
   "outputs": [],
   "source": [
    "dotnet run"
   ]
  },
  {
   "cell_type": "markdown",
   "metadata": {},
   "source": [
    "6. เข้าไปในไฟล์ Program.cs ของโปรเจค HelloWorld\n",
    "7. แก้ไขบรรทัดที่ 2  `Console.WriteLine(\"Hello, World!\");` ให้เป็นข้อความอื่น เช่น `\"Hello, <ชื่อของนักศึกษา>!\"`\n",
    "8. พิมพ์ `dotnet build`"
   ]
  },
  {
   "cell_type": "code",
   "execution_count": null,
   "metadata": {
    "dotnet_interactive": {
     "language": "pwsh"
    },
    "polyglot_notebook": {
     "kernelName": "pwsh"
    }
   },
   "outputs": [],
   "source": [
    "dotnet build "
   ]
  },
  {
   "cell_type": "markdown",
   "metadata": {},
   "source": [
    "9. พิมพ์ `dotnet run`"
   ]
  },
  {
   "cell_type": "code",
   "execution_count": null,
   "metadata": {
    "dotnet_interactive": {
     "language": "pwsh"
    },
    "polyglot_notebook": {
     "kernelName": "pwsh"
    }
   },
   "outputs": [],
   "source": [
    "dotnet run"
   ]
  },
  {
   "cell_type": "markdown",
   "metadata": {},
   "source": [
    "> 10. สรุปผลการทดลอง"
   ]
  },
  {
   "cell_type": "markdown",
   "metadata": {},
   "source": [
    "การใช้ PowerShell เพื่อสร้างและรันโปรเจกต์ .NET Console Application ทำได้ง่ายและสะดวก\n",
    "คำสั่งพื้นฐานเช่น dotnet new, dotnet build, และ dotnet run ช่วยให้จัดการโปรเจกต์ได้อย่างรวดเร็ว\n",
    "การแก้ไขไฟล์โค้ดสามารถปรับปรุงผลลัพธ์ตามความต้องการได้ง่าย โดยแค่แก้ไขไฟล์ Program.cs และรันคำสั่งซ้ำ\n",
    "ข้อดีของ Polyglot: สามารถผสานคำสั่ง PowerShell หรือ Terminal เข้ากับการพัฒนาโปรเจกต์ได้ ไม่ขึ้นกับระบบปฏิบัติการ\n"
   ]
  }
 ],
 "metadata": {
  "kernelspec": {
   "display_name": ".NET (PowerShell)",
   "language": "PowerShell",
   "name": ".net-pwsh"
  },
  "polyglot_notebook": {
   "kernelInfo": {
    "defaultKernelName": "pwsh",
    "items": [
     {
      "aliases": [],
      "languageName": "pwsh",
      "name": "pwsh"
     }
    ]
   }
  }
 },
 "nbformat": 4,
 "nbformat_minor": 2
}
